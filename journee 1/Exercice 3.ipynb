{
 "cells": [
  {
   "cell_type": "code",
   "execution_count": 5,
   "metadata": {},
   "outputs": [
    {
     "name": "stdout",
     "output_type": "stream",
     "text": [
      "Nom:Ilyass \n",
      "Prénom: Math \n",
      "Date de naissance: 01 / 07 / 1982\n",
      "Nom:Ilyass \n",
      "Prénom: Math \n",
      "Date de naissance: 01 / 07 / 1982\n",
      "Salaire: 3550.68\n"
     ]
    },
    {
     "ename": "NameError",
     "evalue": "name 'Chef' is not defined",
     "output_type": "error",
     "traceback": [
      "\u001b[1;31m---------------------------------------------------------------------------\u001b[0m",
      "\u001b[1;31mNameError\u001b[0m                                 Traceback (most recent call last)",
      "\u001b[1;32m<ipython-input-5-f47029c5dcf9>\u001b[0m in \u001b[0;36m<module>\u001b[1;34m\u001b[0m\n\u001b[0;32m     33\u001b[0m \u001b[0mE\u001b[0m \u001b[1;33m=\u001b[0m \u001b[0mEmploye\u001b[0m\u001b[1;33m(\u001b[0m\u001b[1;34m'Ilyass'\u001b[0m\u001b[1;33m,\u001b[0m\u001b[1;34m'Math'\u001b[0m\u001b[1;33m,\u001b[0m \u001b[0mDateNaissance\u001b[0m\u001b[1;33m(\u001b[0m\u001b[1;36m1\u001b[0m\u001b[1;33m,\u001b[0m\u001b[1;36m7\u001b[0m\u001b[1;33m,\u001b[0m\u001b[1;36m1982\u001b[0m\u001b[1;33m)\u001b[0m\u001b[1;33m,\u001b[0m\u001b[1;36m3550.678\u001b[0m\u001b[1;33m)\u001b[0m\u001b[1;33m\u001b[0m\u001b[1;33m\u001b[0m\u001b[0m\n\u001b[0;32m     34\u001b[0m \u001b[0mE\u001b[0m\u001b[1;33m.\u001b[0m\u001b[0mafficher\u001b[0m\u001b[1;33m(\u001b[0m\u001b[1;33m)\u001b[0m\u001b[1;33m\u001b[0m\u001b[1;33m\u001b[0m\u001b[0m\n\u001b[1;32m---> 35\u001b[1;33m \u001b[0mCh\u001b[0m \u001b[1;33m=\u001b[0m \u001b[0mChef\u001b[0m\u001b[1;33m(\u001b[0m\u001b[1;34m'Ilyass'\u001b[0m\u001b[1;33m,\u001b[0m\u001b[1;34m'Math'\u001b[0m\u001b[1;33m,\u001b[0m \u001b[0mDateNaissance\u001b[0m\u001b[1;33m(\u001b[0m\u001b[1;36m1\u001b[0m\u001b[1;33m,\u001b[0m\u001b[1;36m7\u001b[0m\u001b[1;33m,\u001b[0m\u001b[1;36m1988\u001b[0m\u001b[1;33m)\u001b[0m\u001b[1;33m,\u001b[0m\u001b[1;36m7865.548\u001b[0m\u001b[1;33m,\u001b[0m\u001b[1;34m'Ressource humaine'\u001b[0m\u001b[1;33m)\u001b[0m\u001b[1;33m\u001b[0m\u001b[1;33m\u001b[0m\u001b[0m\n\u001b[0m\u001b[0;32m     36\u001b[0m \u001b[0mCh\u001b[0m\u001b[1;33m.\u001b[0m\u001b[0mafficher\u001b[0m\u001b[1;33m(\u001b[0m\u001b[1;33m)\u001b[0m\u001b[1;33m\u001b[0m\u001b[1;33m\u001b[0m\u001b[0m\n",
      "\u001b[1;31mNameError\u001b[0m: name 'Chef' is not defined"
     ]
    }
   ],
   "source": [
    "class DateNaissance:\n",
    "    def __init__(self, jour, mois, annee):\n",
    "        self.jour = jour\n",
    "        self.mois = mois\n",
    "        self.annee = annee\n",
    "        \n",
    "    def ToString(self):\n",
    "        return \"%02d / %02d / %d\"%(self.jour, self.mois, self.annee)\n",
    "\n",
    "class Personne:\n",
    "    def __init__(self,nom,prenom,date_naissance):\n",
    "        self.nom=nom\n",
    "        self.prenom=prenom\n",
    "        self.date_naissance=date_naissance\n",
    "        \n",
    "    def afficher(self):\n",
    "         print(\"Nom:%s \\nPrénom: %s \\nDate de naissance: %s\"%(self.nom,self.prenom,self.date_naissance.ToString()))\n",
    "\n",
    "class Employe(Personne):\n",
    "    def __init__(self, nom, prenom, date_naissance,salaire):\n",
    "        Personne.__init__(self, nom, prenom, date_naissance)\n",
    "        self.salaire=salaire\n",
    "    \n",
    "    def afficher(self):\n",
    "        personne.afficher(self)\n",
    "        print(\"Salaire: %.02f\"%self.salaire)\n",
    "    \n",
    "    \n",
    "naissance = DateNaissance(19,12,2000)\n",
    "naissance.ToString()\n",
    "P = Personne('Ilyass','Math', DateNaissance(1,7,1982))\n",
    "P.afficher()\n",
    "E = Employe('Ilyass','Math', DateNaissance(1,7,1982),3550.678)\n",
    "E.afficher()\n",
    "Ch = Chef('Ilyass','Math', DateNaissance(1,7,1988),7865.548,'Ressource humaine')\n",
    "Ch.afficher()"
   ]
  },
  {
   "cell_type": "code",
   "execution_count": null,
   "metadata": {},
   "outputs": [],
   "source": []
  }
 ],
 "metadata": {
  "kernelspec": {
   "display_name": "Python 3",
   "language": "python",
   "name": "python3"
  },
  "language_info": {
   "codemirror_mode": {
    "name": "ipython",
    "version": 3
   },
   "file_extension": ".py",
   "mimetype": "text/x-python",
   "name": "python",
   "nbconvert_exporter": "python",
   "pygments_lexer": "ipython3",
   "version": "3.7.2"
  }
 },
 "nbformat": 4,
 "nbformat_minor": 4
}
